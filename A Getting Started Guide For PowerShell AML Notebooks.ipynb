{
 "cells": [
  {
   "cell_type": "markdown",
   "metadata": {},
   "source": [
    "# A Getting Started Guide for Microsoft Sentinel notebooks with PowerShell\n",
    "**Notebook Version:** 2.0<br>\n",
    "\n",
    "**Data Sources Required**:\n",
    " - Log Analytics - SecurityEvent (Optional)\n",
    "\n",
    "**.Net Interactive installation is required! **:\n",
    " - To use this notebook, you will first need to install .Net Interactive.  \n",
    " Please follow the instructions in the section of \"Installing the required PowerShell modules\".  \n",
    " Current Ubuntu version is 18.04, and .NET SDK 5.0 is required.\n",
    " Details can be found in this article -> [Microsoft Sentinel Notebooks + Powershell](https://aka.ms/sentinel/pwsh-notebooks).\n",
    "\n",
    "** About this notebook **:  \n",
    "\n",
    "This notebook takes you through the basics needed to get started with PowerShell notebooks that leverage Microsoft Sentinel data and APIs.  \n",
    "\n",
    "This notebook assumes that you are running this in an Azure Machine Learning notebooks environment created via the Microsoft Sentinel UI as this notebook has not yet been tested in other environments. Check the [official documentation](https://docs.microsoft.com/azure/sentinel/notebooks) on creating a Microsoft Sentinel AML workspace/environment to learn more.\n",
    "\n",
    "For a notebook that provides more definitive guidance to the notebook experience, launch the [A Getting Started Guide for Microsoft Sentinel ML Notebooks](https://github.com/Azure/Azure-Sentinel-Notebooks/blob/master/A%20Getting%20Started%20Guide%20For%20Azure%20Sentinel%20ML%20Notebooks.ipynb) notebook from the Microsoft Sentinel notebook UI. This notebook provides a step-by-step overview of the notebook experience as well as some tips and tricks on how to get the most out of your Jupyter notebook experience.\n",
    "\n",
    "For more information as to why Juypter for security investigations, check out this excellent article [Why Use Jupyter for Security Investigations](https://techcommunity.microsoft.com/t5/azure-sentinel/why-use-jupyter-for-security-investigations/ba-p/475729)\n",
    "\n",
    "Lastly, don't forget to install .Net Interactive to use this notebook!"
   ]
  },
  {
   "cell_type": "markdown",
   "metadata": {},
   "source": [
    "---\n",
    "## Installing .NET SDK and Interactive\n",
    "Please execute the following cells to install .NET SDK and Interactive.  \n",
    "You need install them once on a compute instance, and only once.  \n",
    "If you have already install them, you may safely ignore these following 6 cells in this block. "
   ]
  },
  {
   "cell_type": "code",
   "execution_count": null,
   "metadata": {},
   "outputs": [],
   "source": [
    "# Kernel: Python 3.8 - AzureML\n",
    "# If you are not sure, you may check what kernels you already have on the compute instance:\n",
    "!jupyter kernelspec list"
   ]
  },
  {
   "cell_type": "code",
   "execution_count": null,
   "metadata": {},
   "outputs": [],
   "source": [
    "# Kernel: Python 3.8 - AzureML\n",
    "# For Ubuntu 20.04\n",
    "!wget https://packages.microsoft.com/config/ubuntu/20.04/packages-microsoft-prod.deb -O packages-microsoft-prod.deb\n",
    "!sudo dpkg -i packages-microsoft-prod.deb"
   ]
  },
  {
   "cell_type": "code",
   "execution_count": null,
   "metadata": {},
   "outputs": [],
   "source": [
    "# Kernel: Python 3.8 - AzureML\n",
    "# Install .NET SDK 8.0\n",
    "!sudo apt-get update; \\\n",
    "sudo apt-get install -y apt-transport-https && \\\n",
    "sudo apt-get update && \\\n",
    "sudo apt-get install -y dotnet-sdk-8.0"
   ]
  },
  {
   "cell_type": "code",
   "execution_count": null,
   "metadata": {},
   "outputs": [],
   "source": [
    "# Kernel: Python 3.8 - AzureML\n",
    "# Install the dotnet interactive global tool\n",
    "!dotnet tool install --global Microsoft.dotnet-interactive"
   ]
  },
  {
   "cell_type": "code",
   "execution_count": null,
   "metadata": {},
   "outputs": [],
   "source": [
    "# Kernel: Python 3.8 - AzureML\n",
    "# Createï¿½symlinkï¿½between the dotnet interactive and thelocal bin directory \n",
    "!sudo ln -s /home/azureuser/.dotnet/tools/dotnet-interactive /usr/local/bin/dotnet-interactive"
   ]
  },
  {
   "cell_type": "code",
   "execution_count": null,
   "metadata": {},
   "outputs": [],
   "source": [
    "# Kernel: Python 3.8 - AzureML\n",
    "# Finally install the .NET kernel: C#, F#, and PowerShell\n",
    "!dotnet interactive jupyter install"
   ]
  },
  {
   "cell_type": "markdown",
   "metadata": {},
   "source": [
    "### Once successfully complete the above steps, please: <br>\n",
    "** 1. Reload the page, <br> **\n",
    "** 2. Select .NET (PowerShell) kernel <br> **\n",
    "** 3. Then restart kernel **"
   ]
  },
  {
   "cell_type": "markdown",
   "metadata": {},
   "source": [
    "---\n",
    "\n",
    "### Using Azure Notebooks\n",
    "\n",
    "For this notebook we are going to be using PowerShell, so you will need to select the **\".NET (PowerShell)\"** kernel in the dropdown on the top right corner of the notebook UI.\n",
    "\n",
    "Once you have selected the right kernel, you are ready to move onto the next code cell.\n",
    "\n"
   ]
  },
  {
   "cell_type": "markdown",
   "metadata": {},
   "source": [
    "---\n",
    "## Installing the required PowerShell modules\n",
    "Code cells behave in the same way your code would in other environments, so you need to remember about common coding practices such as variable initialization and module/library imports. For this notebook you only need to make sure to install the required PowerShell modules since those are not installed by default."
   ]
  },
  {
   "cell_type": "code",
   "execution_count": null,
   "metadata": {},
   "outputs": [],
   "source": [
    "##Installs modules necessary to run notebook\n",
    "Install-Module Az.Compute,Az.Resources,Az.OperationalInsights,powershell-yaml -Force"
   ]
  },
  {
   "cell_type": "markdown",
   "metadata": {},
   "source": [
    "---\n",
    "## Working with PowerShell within a Jupyter notebook - The Basics \n",
    "In this section we added a few tips and tricks to using PowerShell in a notebook!\n",
    "- While there are differences between running PowerShell in a notebook environment vs a local machine, most features are support.\n",
    "- If you plan on porting your existing scripts, there are some modifications might need to be made to account for these differences.\n",
    "- Due to an additional UI+kernel intecepting your PowerShell commands, be sure to not overload the output as this can cause a chokepoint.  \n",
    "- Also, since the output goes to a white (or black if darkmode is set) UI, some output colors might need to be modified to be visible.\n",
    "<br>\n",
    "<br>\n"
   ]
  },
  {
   "cell_type": "markdown",
   "metadata": {},
   "source": [
    "#### Work with the display\n",
    "\n"
   ]
  },
  {
   "cell_type": "code",
   "execution_count": null,
   "metadata": {},
   "outputs": [],
   "source": [
    "##Get more details on your PowerShell environment\n",
    "$PSVersionTable"
   ]
  },
  {
   "cell_type": "code",
   "execution_count": null,
   "metadata": {},
   "outputs": [],
   "source": [
    "##Output Markdown\n",
    "Out-Display \"**THIS IS BOLD** _ITALICS_\"\n",
    "\n",
    "##Set foreground color\n",
    "$host.UI.RawUI.ForegroundColor = [System.ConsoleColor]::Blue\n",
    "\n",
    "##Default output colors can be changed \n",
    "$Host.PrivateData.WarningBackgroundColor = \"White\"\n",
    "$Host.PrivateData.WarningForegroundColor = \"Black\"\n",
    "\n",
    "##Change output color inline\n",
    "Write-Host \"Lets get started ...\" -ForegroundColor Blue -BackgroundColor White\n",
    "\n",
    "##You can write-host with the -nonewlinke flag\n",
    "Write-Host \"Hello \" -NoNewline -ForegroundColor Red\n",
    "Write-Host \"World!\" -ForegroundColor Blue"
   ]
  },
  {
   "cell_type": "markdown",
   "metadata": {},
   "source": [
    "#### Output to HTML or markdown. "
   ]
  },
  {
   "cell_type": "code",
   "execution_count": null,
   "metadata": {},
   "outputs": [],
   "source": [
    "##Output HTML\n",
    "#!html\n",
    "<b>Hello in HTML!</b>"
   ]
  },
  {
   "cell_type": "code",
   "execution_count": null,
   "metadata": {},
   "outputs": [],
   "source": [
    "#!markdown\n",
    "\n",
    "Write a **list** ...\n",
    "* first item\n",
    "* second item\n",
    "\n",
    "...or a _table_...\n",
    "\n",
    "|CallerIP    |PrincipalString |\n",
    "|---------|--------|\n",
    "|10.1.1.1    |joe@contoso.com      |\n",
    "|10.1.1.2    |joanne@contoso.com   |"
   ]
  },
  {
   "cell_type": "markdown",
   "metadata": {},
   "source": [
    "#### Output from C# and visa versa. Yes, switching between DotNet languages is possible too"
   ]
  },
  {
   "cell_type": "code",
   "execution_count": null,
   "metadata": {},
   "outputs": [],
   "source": [
    "#!csharp\n",
    "var x=\"Hello using C#!\";\n",
    "Console.WriteLine(x);\n",
    "\n",
    "#!pwsh\n",
    "$x = \"Hello using PowerShell!\"\n",
    "Write-Host $x\n"
   ]
  },
  {
   "cell_type": "markdown",
   "metadata": {},
   "source": [
    "#### Download content"
   ]
  },
  {
   "cell_type": "code",
   "execution_count": null,
   "metadata": {},
   "outputs": [],
   "source": [
    "##Download IOCs from the internet and use them in your investigation/hunts\n",
    "$ips = (Invoke-WebRequest 'https://raw.githubusercontent.com/parthdmaniar/coronavirus-covid-19-SARS-CoV-2-IoCs/master/IPs').content\n",
    "$ips"
   ]
  },
  {
   "cell_type": "markdown",
   "metadata": {},
   "source": [
    "#### Prompt for information"
   ]
  },
  {
   "cell_type": "code",
   "execution_count": null,
   "metadata": {},
   "outputs": [],
   "source": [
    "##You can ask for user input\n",
    "Write-Host \"Don't forget that execution of cells will block on prompts until you submit!\"\n",
    "$name = Read-Host -Prompt \"What is the server name you would like to investigate? \"\n",
    "$name"
   ]
  },
  {
   "cell_type": "markdown",
   "metadata": {},
   "source": [
    "#### Use progress bars or run commands in parallel"
   ]
  },
  {
   "cell_type": "code",
   "execution_count": null,
   "metadata": {},
   "outputs": [],
   "source": [
    "##You can use a progress bar\n",
    "For ($i=0; $i -le 100; $i++) {\n",
    "    Write-Progress -Id 1 -Activity \"Parent work progress\" -Status \"Current Count: $i\" -PercentComplete $i -CurrentOperation \"Counting ...\"\n",
    " \n",
    "    For ($j=0; $j -le 10; $j++) {\n",
    "        Start-Sleep -Milliseconds 5\n",
    "        Write-Progress -Parent 1 -Id 2 -Activity \"Child work progress\" -Status \"Current Count: $j\" -PercentComplete ($j*10) -CurrentOperation \"Working ...\"\n",
    "    }\n",
    "    \n",
    "    if ($i -eq 50) {\n",
    "        Write-Host \"Doing the work around here...\" -Foreground DarkBlue\n",
    "        \"Output goes here...\"\n",
    "    }\n",
    "}"
   ]
  },
  {
   "cell_type": "code",
   "execution_count": null,
   "metadata": {},
   "outputs": [],
   "source": [
    "##If you have long running task, that prints output to the screen\n",
    "##use the -Parallel flag to run them in parallel, vastly improving performance.\n",
    "##Example below runs one loop sequentially while the second example runs them in parallel\n",
    "\n",
    "Write-Host \"Number of seconds running commands sequentially: \" -nonewline\n",
    "(Measure-Command { \n",
    "    1..5 | ForEach-Object -Process {write-output \"This is number $_\"; sleep 2}\n",
    "}).Seconds\n",
    "\n",
    "Write-Host \"Number of seconds running commands in parallel: \" -nonewline\n",
    "(Measure-Command { \n",
    "    1..5 | ForEach-Object -Parallel {write-output \"This is number $_\"; sleep 2}\n",
    "}).Seconds"
   ]
  },
  {
   "cell_type": "markdown",
   "metadata": {},
   "source": [
    "---\n",
    "## Microsoft Sentinel Configuration\n",
    "Once we have set up our Jupyter environment with the libraries that we'll use in the notebook, we need to make sure we have some configuration in place. Some of the notebook components need addtional configuration to connect to external services (e.g. API keys to retrieve Threat Intelligence data). This includes configuration for connection to our Microsoft Sentinel workspace.\n",
    "For this notebook, we simply import the configuration from the config.json file that is created in your notebook explorer folder when you launch the notebook from the Microsoft Sentinel UI.\n",
    "<br>\n"
   ]
  },
  {
   "cell_type": "code",
   "execution_count": null,
   "metadata": {},
   "outputs": [],
   "source": [
    "##Get your configuration file settings\n",
    "$nbcontentpath = \"config.json\"\n",
    "if(!(test-path $nbcontentpath)){\n",
    "    write-host \"INFO: Your configuration path ($nbcontentpath) could not be located.\"\n",
    "    write-host \"INFO: Attempting to build the file path explicitly.  If this continues to be a problem, run 'dir' within the cell to find the current working directory and update the `$nbcontentpath variable accordingly.\"    \n",
    "    $username = read-host \"Enter the user name used for the notebook file explorer (the name of the top level folder):\"\n",
    "    $nbcontentpath = \"users\\$username\\config.json\"\n",
    "}\n",
    "\n",
    "##Path fix in case you picked up the cookie cutter configuration file (if you cloned repo from GitHub in terminal)\n",
    "if(test-path $nbcontentpath){\n",
    "    $content = gc $nbcontentpath | ?{$_ -match \"cookiecutter\"}\n",
    "    if($content.Length -gt 0) {\n",
    "        $nbcontentpath = \"..\\\" + $nbcontentpath\n",
    "    }    \n",
    "}\n",
    "\n",
    "try {\n",
    "    $nbconfigcontent = Get-Content $nbcontentpath -ErrorAction Stop    \n",
    "}\n",
    "catch {\n",
    "    write-host \"ERROR: Your configuration path ($nbcontentpath) could not be located. Please fix before continuing further.\"    \n",
    "}\n",
    "\n",
    "##Set variables you will use throughout the notebook\n",
    "$tenantId =  ($nbconfigcontent | ConvertFrom-Json).tenant_id\n",
    "$subscriptionId = ($nbconfigcontent | ConvertFrom-Json).subscription_id\n",
    "$resourceGroup = ($nbconfigcontent | ConvertFrom-Json).resource_group\n",
    "$workspaceName = ($nbconfigcontent | ConvertFrom-Json).workspace_name\n",
    "$workspaceId = ($nbconfigcontent | ConvertFrom-Json).workspace_id\n",
    "\n",
    "Write-Host \"SubscriptionId: \" $subscriptionId \n",
    "Write-Host \"TenantId: \" $tenantId\n",
    "Write-Host \"WorkspaceId: \" $workspaceId\n",
    "Write-Host \"workspaceName: \" $workspaceName "
   ]
  },
  {
   "cell_type": "markdown",
   "metadata": {},
   "source": [
    "---\n",
    "## Connect to your Microsoft Sentinel workspace\n",
    "Once you have configured your notebook, now you can connect to your workspace.\n",
    "\n",
    "> **Note**: <br>\n",
    "- We changed the default foreground colors in case you are using the \"Light\" notebook UI theme, since the yellow output will be hard to see.  Feel free to modify.\n",
    "<br>\n",
    "<br>\n"
   ]
  },
  {
   "cell_type": "code",
   "execution_count": null,
   "metadata": {},
   "outputs": [],
   "source": [
    "#Change the default colors used for PowerShell warnings as they make the Connect-AzAccount output difficult to see \n",
    "$Host.PrivateData.WarningBackgroundColor = \"White\"\n",
    "$Host.PrivateData.WarningForegroundColor = \"Black\"\n",
    "\n",
    "##Connect to selected subscription\n",
    "Connect-AzAccount -UseDeviceAuthentication\n",
    "Select-AzSubscription -SubscriptionId $subscriptionId -TenantId $tenantId"
   ]
  },
  {
   "cell_type": "code",
   "execution_count": null,
   "metadata": {},
   "outputs": [],
   "source": [
    "##Configure the Log Analytics workspace\n",
    "$workspace = $null\n",
    "$workspaces = Get-AzOperationalInsightsWorkspace -ResourceGroupName $resourceGroup\n",
    "if($workspaces.Length -gt 1) {\n",
    "    Write-Host \"INFO: Multiple workspaces detected.\" \n",
    "    foreach($wksp in $workspaces){\n",
    "        if($wksp.Name -eq $workspaceName)    {\n",
    "          $workspace = $wksp\n",
    "        }        \n",
    "    }    \n",
    "}\n",
    "else {\n",
    "     $workspace = $workspaces \n",
    "}\n",
    "Write-Host \"INFO: Ensure that the workspace -- {\"$workspace.Name\"} is the intended target workspace before continuing to the next cell.\"   \n",
    "$workspace\n"
   ]
  },
  {
   "cell_type": "markdown",
   "metadata": {},
   "source": [
    "---\n",
    "## Access your hunting queries \n",
    "Utilize the savedsearch API to download and run your hunting queries"
   ]
  },
  {
   "cell_type": "code",
   "execution_count": null,
   "metadata": {},
   "outputs": [],
   "source": [
    "##Query your workspace using the savedsearches API\n",
    "$savedSearchQueries = (Get-AzOperationalInsightsSavedSearch -ResourceGroupName $resourceGroup -WorkspaceName $workspaceName).value\n",
    "$huntingQueries = $savedSearchQueries | %{$_.properties } | ? {$_.Category -match \"Hunting Queries\"}\n",
    "Write-Host \"Displaying the first 5 hunting queries...\"\n",
    "0..4 | foreach {Write-Host \"Hunting Query Name: \" -nonewline;$huntingQueries[$_].DisplayName}"
   ]
  },
  {
   "cell_type": "markdown",
   "metadata": {},
   "source": [
    "---\n",
    "## Access your Microsoft Sentinel incidents \n",
    "Utilize the Microsoft Sentinel API to download metadata regarding your incidents\n",
    "\n",
    "> **Note**: It could take a few seconds to download all of your incidents!\n",
    "<br>\n",
    "<br>"
   ]
  },
  {
   "cell_type": "code",
   "execution_count": null,
   "metadata": {},
   "outputs": [],
   "source": [
    "##Build resource id\n",
    "$worksapceId = \"subscriptions/${subscriptionId}/resourceGroups/${resourceGroup}/providers/Microsoft.OperationalInsights/workspaces/${workspaceName}\"\n",
    "$incidentsResource = $worksapceId + \"/\" + \"providers/Microsoft.SecurityInsights/incidents\"\n",
    "\n",
    "##Get incidents\n",
    "$incidents = Get-AzResource -ResourceId $incidentsResource -ApiVersion \"2019-01-01-preview\"\n",
    "\n",
    "##Only display a few incidents as the notebook has to translate the PowerShell output into the Jupyter UI\n",
    "0..4 | foreach {Write-Host \"Incident Number {$_}: \" -nonewline;$incidents[$_].Properties}"
   ]
  },
  {
   "cell_type": "code",
   "execution_count": null,
   "metadata": {},
   "outputs": [],
   "source": [
    "##Retrieve all of your incident counts and day they were created\n",
    "$incidentsforgraph = $incidents | % {$_.properties} | select Title, Description, Severity, Status, Owner, createdTimeUtc, relatedAnalyticRuleIds, incidentUrl | ? {(get-date $_.createdTimeUtc) -gt (get-date).AddDays(-31d)} \n",
    "\n",
    "##Add formated property for the date they were created to make it easier to create graphs\n",
    "foreach($incident in $incidentsforgraph)\n",
    "{\n",
    "  $incident | Add-Member -MemberType NoteProperty -Name NewDate -Value (get-date $incident.createdTimeUtc -format \"yyyy-MM-dd\") -Force\n",
    "}\n",
    "\n",
    "##Retrieve all of your incident counts and day they were created for the last 30 days\n",
    "$openIncidents   =   $incidentsforgraph | ? {$_.Status -ne \"Closed\"} \n",
    "$closedIncidents =   $incidentsforgraph | ? {$_.Status -eq \"Closed\"} \n",
    "Write-Host \"Total incidents (last 30 days)        : \" $incidentsforgraph.count\n",
    "Write-Host \"Total Open Incidents (last 30 days)   : \" $openIncidents.count\n",
    "Write-Host \"Total Closed Incidents (last 30 days) : \" $closedIncidents.count\n",
    "\n"
   ]
  },
  {
   "cell_type": "markdown",
   "metadata": {},
   "source": [
    "---\n",
    "## Chart your incidents using XPlot\n",
    "Charts can be rendered using [Xplot.Plotly](https://fslab.org/XPlot/). \n",
    "Here is a simple example on how to combine your incident data with XPlot.\n",
    "<br>\n",
    "<br>"
   ]
  },
  {
   "cell_type": "code",
   "execution_count": null,
   "metadata": {},
   "outputs": [],
   "source": [
    "##At least one of each incident type (open or closed) must exists to run this cell\n",
    "if(($closedIncidents -eq $null) -or ($openIncidents -eq $null)){\n",
    "    Write-Host \"You need at least one instance of each incident type (open or closed) to render the chart\"\n",
    "}\n",
    "else {\n",
    "    ##Create open incident plots\n",
    "    $openSeries = [Graph.Scatter]::new()\n",
    "    $openSeries.name = \"Open Incidents\"\n",
    "    $openSeries.x = @(($openIncidents | group-object -Property NewDate).Name | % {$_.ToString()})\n",
    "    $openSeries.y = (($openIncidents | group-object -Property NewDate | Select Count | %{$_.Count})) \n",
    "\n",
    "    ##Create closed incident plots\n",
    "    $closeSeries = [Graph.Scatter]::new()\n",
    "    $closeSeries.name = \"Closed Incidents\"\n",
    "    $closeSeries.x =  @(($closedIncidents | group-object -Property NewDate).Name | % {$_.ToString()})\n",
    "    $closeSeries.y =  (($closedIncidents | group-object -Property NewDate | Select Count | %{$_.Count})) \n",
    "\n",
    "    ##Display chart\n",
    "    $chart = @($openSeries, $closeSeries) | New-PlotlyChart -Title \"Open vs Closed Incidents\"\n",
    "    Out-Display $chart\n",
    "}"
   ]
  },
  {
   "cell_type": "markdown",
   "metadata": {},
   "source": [
    "---\n",
    "## Query your Microsoft Sentinel Data\n",
    "Data within your Microsoft Sentinel workspace can be manipulated.\n",
    "My favorite part about working with notebooks is that I can extract values from one query or API call and use them as inputs to another query and/or API.\n",
    "\n",
    "> **Note**: \n",
    "- The query below requires the Heartbeat table.  This was chosen as an example since it will reside in all Microsoft Sentinel workspaces.\n",
    "- For a more 'real world' example, pick another table or add your own query.\n",
    "<br>\n",
    "<br>"
   ]
  },
  {
   "cell_type": "code",
   "execution_count": null,
   "metadata": {},
   "outputs": [],
   "source": [
    "##Add a timeframe variable\n",
    "$timeframe = $null\n",
    "do {\n",
    "  $timeframe = Read-Host \"How many days back would you like to query the data? (you must enter an integer for number of days):\"\n",
    "  $timeframe = $timeframe -as [int]\n",
    "  if ($timeframe -eq $null) { write-host \"You must enter a numeric value\" }\n",
    "}\n",
    "until ($timeframe -ne $null)\n",
    "write-host \"You entered: $timeframe days as the input timespan.\"\n",
    "\n",
    "\n",
    "##Query Heartbeat table\n",
    "$query = \"Heartbeat | where TimeGenerated >= ago($timeframe\" + \"d\" + \") | take 10\"\n",
    "Write-Host \"Query to run: \" $query\n",
    "##Run query and add results to object. Now you can use object to display data or graph\n",
    "$queryResults = Invoke-AzOperationalInsightsQuery -Workspace $Workspace -query $query\n",
    "#0..1 | foreach {Write-Host \"Result Number {$_}: \";$queryResults.results[$_] }\n",
    "$queryResults.Results | select TimeGenerated, ComputerIP, Computer, `\n",
    "    OSType, RemoteIPLongitude, RemoteIPLatitude, RemoteIPCountry, `\n",
    "    Resource, ResourceType, ComputerEnvironment | Format-Table \n"
   ]
  },
  {
   "cell_type": "markdown",
   "metadata": {},
   "source": [
    "---\n",
    "## Match Microsoft Sentinel data with IOCs\n",
    "You can also join data from external sources...\n",
    "\n",
    "<br>\n",
    "<br>"
   ]
  },
  {
   "cell_type": "code",
   "execution_count": null,
   "metadata": {},
   "outputs": [],
   "source": [
    "##Using the example from an earlier cell, collect a list of IOCs and join them with IPs from a query\n",
    "##Download IOCs from the internet and use them in your investigation/hunts\n",
    "$ips = ((Invoke-WebRequest 'https://raw.githubusercontent.com/parthdmaniar/coronavirus-covid-19-SARS-CoV-2-IoCs/master/IPs').content).ToString() -Split \"`n\" \n",
    "\n",
    "\n",
    "##Query the Log Analytics table\n",
    "$query = @\"\n",
    "    Heartbeat \n",
    "    | where TimeGenerated >= ago(1d) \n",
    "    | summarize RecordCount=count() by ComputerIPs=ComputerIP    \n",
    "\"@\n",
    "\n",
    "##Run query and add results to object. Now you can use object to display data or graph\n",
    "$queryResults = Invoke-AzOperationalInsightsQuery -Workspace $Workspace -query $query\n",
    "$computerips=($queryResults.Results | Group-Object ComputerIPs).Group.ComputerIPs\n",
    "\n",
    "##Compare IOC IPs to IPs from your logs\n",
    "Write-Host \"Example of comparing IPs to IOCs...\"\n",
    "foreach($computerip in ($computerips | select -first 10 )) {\n",
    "    for($i=0;$i -lt $ips.Length;$i++) {\n",
    "        write-host \"IOC-IP:\" $ips[$i] \"does not match IP:\" $ips[$i] \"from logs!\"\n",
    "        if($i -gt 3) {break}\n",
    "    }\n",
    "}\n",
    "\n"
   ]
  },
  {
   "cell_type": "markdown",
   "metadata": {},
   "source": [
    "---\n",
    "## Enriching data\n",
    "\n",
    "Now that we have seen how to query for data, we can see how you can enrich data with additional data sources. \n",
    "- For this we are going to use an external threat intelligence provider to give us some more details about a URL.\n",
    "- The example cell below assuming you have a VirusTotal (VT) key in your yaml configuration file\n",
    "- If you don't already have a VirusTotal API key, signup [here](https://www.virustotal.com/gui/join-us).\n",
    "- If not, you can either hardcode the VT key in the cell or run the [A Getting Started Guide for Microsoft Sentinel ML Notebooks](https://github.com/Azure/Azure-Sentinel-Notebooks/blob/master/A%20Getting%20Started%20Guide%20For%20Azure%20Sentinel%20ML%20Notebooks.ipynb) notebook for instructions on how to create the configuration file with your VirusTotal key included.  \n",
    "<br/>"
   ]
  },
  {
   "cell_type": "code",
   "execution_count": null,
   "metadata": {},
   "outputs": [],
   "source": [
    "##Get your configuration file settings\n",
    "$configFileSuccess=$false\n",
    "$yamlcontentpath = \"msticpyconfig.yaml\"\n",
    "$yaml = $null\n",
    "if(!(test-path $yamlcontentpath)) {\n",
    "    write-host \"INFO: Your configuration path ($yamlcontentpath) could not be located.\"\n",
    "    write-host \"INFO: Attempting to build the file path explicitly.  If this continues to be a problem, run 'dir' within the cell to find the current working directory and update the `$nbcontentpath variable accordingly.\"    \n",
    "    $username = read-host \"Enter the user name used for the notebook file explorer:\"\n",
    "    $yamlcontentpath = \"users\\$username\\msticpyconfig.yaml\"\n",
    "}\n",
    "\n",
    "##Path fix in case you picked up the cookie cutter configuration file (if you cloned repo from GitHub in terminal)\n",
    "if(test-path $yamlcontentpath){\n",
    "    $content = gc $yamlcontentpath #| ? {$_ -match \"your-workspace-id\"}\n",
    "    if($content.Length -gt 0) {\n",
    "        $yamlcontentpath = \"..\\\" + $yamlcontentpath\n",
    "    }    \n",
    "}\n",
    "\n",
    "##Set Yaml content\n",
    "try {\n",
    "    $configFileSuccess=$true\n",
    "    $yamlcontent = Get-Content $yamlcontentpath -ErrorAction Stop -Raw\n",
    "    $yaml = ConvertFrom-Yaml  $yamlcontent\n",
    "}\n",
    "catch {\n",
    "    $configFileSuccess=$false\n",
    "    write-host \"ERROR: Your configuration path ($yamlcontentpath) could not be located. Please fix or hardcode the key before continuing further.\"    \n",
    "}\n",
    "\n",
    "\n",
    "##Harcode your key here if you haven't configured the yaml configuration file\n",
    "##$APIKey = \"<>\"\n",
    "\n",
    "##Set your API key and you are good to go\n",
    "$APIKey = $yaml.TIProviders.VirusTotal.Args.AuthKey\n",
    "if($APIKey -eq $null){\n",
    "    $configFileSuccess = $false\n",
    "}\n",
    "else {\n",
    "    $configFileSuccess = $true\n",
    "}\n",
    "\n",
    "if($configFileSuccess) {\n",
    "    write-host \"INFO: Your VT key was correctly configured. \"  \n",
    "    $yaml.TIProviders.VirusTotal\n",
    "}\n",
    "else {\n",
    "    write-host \"ERROR: Your VT key was not correctly configured. Please fix before continuing further.\"  \n",
    "}"
   ]
  },
  {
   "cell_type": "code",
   "execution_count": null,
   "metadata": {},
   "outputs": [],
   "source": [
    "##Input VT URL and Key\n",
    "##Ideally, it would be better to retrieve the key from msticpyconfig.yaml\n",
    "##$APIKey = '<VT_KEY_HERE>'\n",
    "\n",
    "$Resource = Read-Host \"Enter the URL you would like to submit (example: support.btcsupports.com):\"\n",
    "\n",
    "##Test URL\n",
    "##$Resource = 'http://support.btcsupports.com/'\n",
    "\n",
    "##Setup VT URI\n",
    "$URI = 'https://www.virustotal.com/vtapi/v2/url/report'\n",
    "$QueryResources =  $Resource -join ','\n",
    "$OldEAP = $ErrorActionPreference\n",
    "$ErrorActionPreference = 'SilentlyContinue'\n",
    "$Body = @{'resource'= $QueryResources; 'apikey'= $APIKey; 'scan'=$scanurl}\n",
    "\n",
    "\n",
    "# Start building parameters for REST Method invokation.\n",
    "$Params =  @{}\n",
    "$Params.add('Body', $Body)\n",
    "$Params.add('Method', 'Get')\n",
    "$Params.add('Uri',$URI)\n",
    "$Params.Add('ErrorVariable', 'RESTError')\n",
    "$ReportResult = Invoke-RestMethod @Params\n",
    "\n",
    "$ErrorActionPreference = $OldEAP\n",
    "\n",
    "if ($RESTError)\n",
    "{\n",
    "    if ($RESTError.Message.Contains('403'))\n",
    "    {\n",
    "throw 'API key is not valid.'\n",
    "    }\n",
    "    elseif ($RESTError.Message -like '*204*')\n",
    "    {\n",
    "throw 'API key rate has been reached.'\n",
    "    }\n",
    "    else\n",
    "    {\n",
    "throw $RESTError\n",
    "    }\n",
    "}\n",
    "\n",
    "foreach ($URLReport in $ReportResult)\n",
    "{\n",
    "    $URLReport.pstypenames.insert(0,'VirusTotal.URL.Report')\n",
    "    Write-host \"Resource:\" $URLReport.resource\n",
    "    Write-host \"Last Scan:\" $URLReport.scan_date\n",
    "    Write-host \"VT Link:\" $URLReport.permalink\n",
    "    Write-host \"Positive Scans:\" $URLReport.positives\n",
    "    Write-host \"Total Scans:\" $URLReport.total     \n",
    "    $URLReport\n",
    "}\n"
   ]
  },
  {
   "cell_type": "markdown",
   "metadata": {},
   "source": [
    "---\n",
    "## Get your watchlist aliases and data \n",
    "Retrieve your watchlist aliases and data by running the code below\n",
    "> **Note**: You must be part of the private preview program to use this feature. Sign-up at [www.aka.ms/SecurityPrP](www.aka.ms/SecurityPrP) to get started!\n",
    "\n"
   ]
  },
  {
   "cell_type": "code",
   "execution_count": null,
   "metadata": {},
   "outputs": [],
   "source": [
    "##Retrieve watchlist results\n",
    "$queryResults = $null\n",
    "$watchlistalias = read-host \"Enter your watchlist alias to get the results:\"\n",
    "$query = \"_GetWatchlist('$watchlistalias')\"\n",
    "$queryResults = Invoke-AzOperationalInsightsQuery -Workspace $Workspace -query $query\n",
    "$queryResults.Results | Select Watchlistitem | select -first 100"
   ]
  }
 ],
 "metadata": {
  "kernel_info": {
   "name": ".net-powershell"
  },
  "kernelspec": {
   "display_name": "Python 3.10 - SDK v2",
   "language": "python",
   "name": "python310-sdkv2"
  },
  "microsoft": {
   "host": {
    "AzureML": {
     "notebookHasBeenCompleted": true
    }
   }
  },
  "nteract": {
   "version": "nteract-front-end@1.0.0"
  }
 },
 "nbformat": 4,
 "nbformat_minor": 2
}
